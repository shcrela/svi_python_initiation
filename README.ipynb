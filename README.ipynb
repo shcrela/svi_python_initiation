{
 "cells": [
  {
   "cell_type": "markdown",
   "id": "9cb789dd-d153-489d-9e3d-1694b1ce2360",
   "metadata": {},
   "source": [
    "# svi_python_initiation\n",
    "<a name=\"logo\"></a>\n",
    "[<img width=\"100px\" src=\"./img/Logo_135_SGCNRSbis.png\"></img>](#logo)\n",
    "\n",
    "Support for the _scientific python initiation @svi course_\n",
    "\n",
    "\n",
    "\n",
    "## Things to do before we begin:\n",
    "\n",
    "### 1. Create a new conda environment on your computer\n",
    "* Open the Anaconda prompt.  \n",
    "* type `conda create -n svi_formation python=3.9`  \n",
    "* then type `conda activate svi_formation`  \n",
    "  * optionnally: `conda install -c conda-forge mamba`  \n",
    "* then*: `conda install scipy numpy matplotlib scikit-image scikit-learn spyder jupyterlab ipympl`  \n",
    "  * *if you decided to install mamba, replace `conda` with `mamba` in previous line.  \n",
    "\n",
    "\n",
    "### 2. Download the material for this course (everything in this repository)\n",
    "Click on the (only) green button on this page and select the download option of your choosing. (don't worry, you can't break anything)\n",
    "\n",
    "### 3. Take a look at the basic topics we planned to cover\n",
    "<a name=\"plan\"></a>\n",
    "\n",
    "[<img width=\"100%\" src=\"./img/course_plan.svg\"></img>](#plan)\n",
    "\n",
    "All suggestions for additionnal topics are welcomed!  \n",
    "To submit your proposals, you can either use the Teams channel, either open an issue here (a-ha!). (the most voted ones are sure to enter the program)\n",
    "\n",
    "\n",
    "_Note_ : Almost **Everything** we'll do here is covered in [scipy-lectures](https://scipy-lectures.org/), only much better and by way much greater experts in the field.\n"
   ]
  },
  {
   "cell_type": "markdown",
   "id": "97d8d1ee-944a-45ff-b57c-8d5f50e09d91",
   "metadata": {},
   "source": [
    "# [1. Basics](./notebooks/100_Basics.ipynb)\n",
    "## [1.1. Loops](./notebooks/100_Basics.ipynb#Loops)\n",
    "## [1.2. Basic types](./notebooks/100_Basics.ipynb#BasicTypes)\n",
    "## [1.3. Sequences](./notebooks/100_Basics.ipynb#Sequences)\n",
    "## [1.4. Functions](./notebooks/100_Basics.ipynb#Functions)\n",
    "## [1.5. Exercises](./notebooks/100_Basics.ipynb#exercises)"
   ]
  },
  {
   "cell_type": "code",
   "execution_count": null,
   "id": "c10a347f-8001-46e7-9938-c99b0c0451f9",
   "metadata": {},
   "outputs": [],
   "source": []
  }
 ],
 "metadata": {
  "kernelspec": {
   "display_name": "3D",
   "language": "python",
   "name": "3d"
  },
  "language_info": {
   "codemirror_mode": {
    "name": "ipython",
    "version": 3
   },
   "file_extension": ".py",
   "mimetype": "text/x-python",
   "name": "python",
   "nbconvert_exporter": "python",
   "pygments_lexer": "ipython3",
   "version": "3.8.5"
  }
 },
 "nbformat": 4,
 "nbformat_minor": 5
}
